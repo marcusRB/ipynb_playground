{
 "cells": [
  {
   "cell_type": "markdown",
   "metadata": {},
   "source": [
    "## Strava analytics with ipython"
   ]
  },
  {
   "cell_type": "markdown",
   "metadata": {},
   "source": [
    "First step is to get an oauth token from strava.\n",
    "\n",
    "Create a strava application\n",
    "\n",
    "To do that, navigate to [this link](https://www.strava.com/oauth/authorize?client_id=5966&response_type=code&redirect_uri=http://localhost&approval_prompt=auto&scope=view_private), changing the client id to match your app and authorize the strava test app. After you have clicked authorize, you will be redirected to a page that does not exist, but you can get the code from the URL :\n",
    "\n",
    "http://localhost/token_exchange.php?state=&code=XXXX\n",
    "\n",
    "Strava API docs :\n",
    "http://strava.github.io/api/v3/oauth/"
   ]
  },
  {
   "cell_type": "code",
   "execution_count": 88,
   "metadata": {
    "collapsed": true
   },
   "outputs": [],
   "source": [
    "strava_oauth_code = \"7ba92a5340010f4035b2f897a7c93d6a9a331b53\""
   ]
  },
  {
   "cell_type": "code",
   "execution_count": 89,
   "metadata": {
    "collapsed": true
   },
   "outputs": [],
   "source": [
    "import requests\n",
    "\n",
    "payload = {\n",
    "    'client_id':\"5966\",\n",
    "    'client_secret':\"b8869c83423df058bbd72319cef18bd46123b251\",\n",
    "    'code':strava_oauth_code\n",
    "}\n",
    "resp = requests.post(\"https://www.strava.com/oauth/token\", params=payload)\n",
    "assert resp.status_code == 200\n",
    "\n",
    "access_token = resp.json()['access_token']\n",
    "headers = {\n",
    "    'Authorization': \"Bearer \" + access_token\n",
    "}"
   ]
  },
  {
   "cell_type": "code",
   "execution_count": 90,
   "metadata": {
    "collapsed": false
   },
   "outputs": [
    {
     "data": {
      "text/plain": [
       "u'cc984d50e8c49b8cfd251d20ca9321d81c396d9d'"
      ]
     },
     "execution_count": 90,
     "metadata": {},
     "output_type": "execute_result"
    }
   ],
   "source": [
    "access_token"
   ]
  },
  {
   "cell_type": "code",
   "execution_count": 91,
   "metadata": {
    "collapsed": false
   },
   "outputs": [
    {
     "name": "stdout",
     "output_type": "stream",
     "text": [
      "Julien Rebetez\n"
     ]
    }
   ],
   "source": [
    "resp = requests.get(\"https://www.strava.com/api/v3/athlete\", headers=headers)\n",
    "assert resp.status_code == 200\n",
    "athlete = resp.json()\n",
    "print athlete['firstname'], athlete['lastname']"
   ]
  },
  {
   "cell_type": "code",
   "execution_count": 101,
   "metadata": {
    "collapsed": false
   },
   "outputs": [
    {
     "name": "stdout",
     "output_type": "stream",
     "text": [
      "107  activities total\n"
     ]
    }
   ],
   "source": [
    "def get_activities(page):\n",
    "    params = {\n",
    "        'per_page': 50,\n",
    "        'page':page\n",
    "    }\n",
    "\n",
    "    resp = requests.get(\"https://www.strava.com/api/v3/athlete/activities\",\n",
    "                        params=params, headers=headers)\n",
    "    assert resp.status_code == 200\n",
    "    activities = resp.json()\n",
    "    return activities\n",
    "\n",
    "def get_all_activities():\n",
    "    all_activities = []\n",
    "    page = 1\n",
    "    while True:\n",
    "        activities = get_activities(page)\n",
    "        page += 1\n",
    "        if len(activities) == 0:\n",
    "            break\n",
    "        all_activities += activities\n",
    "    return all_activities\n",
    "    \n",
    "activities = get_all_activities()\n",
    "print len(activities), ' activities total'"
   ]
  },
  {
   "cell_type": "code",
   "execution_count": 103,
   "metadata": {
    "collapsed": true
   },
   "outputs": [],
   "source": [
    "import json\n",
    "with open('activities.json', 'w') as f:\n",
    "    json.dump(activities, f)"
   ]
  }
 ],
 "metadata": {
  "kernelspec": {
   "display_name": "Python 2",
   "language": "python",
   "name": "python2"
  },
  "language_info": {
   "codemirror_mode": {
    "name": "ipython",
    "version": 2
   },
   "file_extension": ".py",
   "mimetype": "text/x-python",
   "name": "python",
   "nbconvert_exporter": "python",
   "pygments_lexer": "ipython2",
   "version": "2.7.9"
  }
 },
 "nbformat": 4,
 "nbformat_minor": 0
}
