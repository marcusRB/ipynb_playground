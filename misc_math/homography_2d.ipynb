{
 "cells": [
  {
   "cell_type": "markdown",
   "metadata": {},
   "source": [
    "# Solving 2D homography from 4 points correspondences"
   ]
  },
  {
   "cell_type": "markdown",
   "metadata": {},
   "source": [
    "Small experiment to solve a 2D homography turning any quadrilateral into another quadrilateral"
   ]
  },
  {
   "cell_type": "code",
   "execution_count": 1,
   "metadata": {
    "collapsed": true
   },
   "outputs": [],
   "source": [
    "import numpy as np\n",
    "import numpy.linalg as la\n",
    "import pylab as pl\n",
    "%matplotlib inline\n",
    "np.set_printoptions(suppress=True, precision=5)"
   ]
  },
  {
   "cell_type": "code",
   "execution_count": 2,
   "metadata": {
    "collapsed": true
   },
   "outputs": [],
   "source": [
    "# Source and target quadrilaterals\n",
    "x = np.array([\n",
    "    [2, 2],\n",
    "    [2, 4],\n",
    "    [4, 4],\n",
    "    [4, 2]\n",
    "])\n",
    "\n",
    "xp = np.array([\n",
    "    [2, 2],\n",
    "    [2.5, 4],\n",
    "    [3.5, 3.5],\n",
    "    [4, 2]\n",
    "])"
   ]
  },
  {
   "cell_type": "code",
   "execution_count": 3,
   "metadata": {},
   "outputs": [
    {
     "data": {
      "text/plain": [
       "<matplotlib.collections.PathCollection at 0x10f96ef60>"
      ]
     },
     "execution_count": 3,
     "metadata": {},
     "output_type": "execute_result"
    },
    {
     "data": {
      "image/png": "[encoded data removed]",
      "text/plain": [
       "<matplotlib.figure.Figure at 0x10f632358>"
      ]
     },
     "metadata": {},
     "output_type": "display_data"
    }
   ],
   "source": [
    "pl.figure(figsize=(10, 5))\n",
    "pl.subplot(121)\n",
    "pl.scatter(x[:,0], x[:,1], c='b')\n",
    "pl.subplot(122)\n",
    "pl.scatter(xp[:,0], xp[:,1], c='r')"
   ]
  },
  {
   "cell_type": "markdown",
   "metadata": {},
   "source": [
    "## Solving for the homography\n",
    "\n",
    "See _Hartley & Zissermann \"Multiple view geometry in computer vision\"_, section 4.1 and equation 4.3 for reference.\n",
    "\n",
    "We want to solve for the homography $H$ such that\n",
    "$$x_i' = Hx_i$$\n",
    "Which can be rewritten as a cross product\n",
    "$$x_i' \\times Hx_i = 0$$\n",
    "\n",
    "With the $j-th$ row of H denoted as $h^{jT}$, then we have\n",
    "\n",
    "$$Hx_i = \\left( \\begin{array}{c} h^{1T}x_i \\\\ h^{2T}x_i \\\\ h^{3T}x_i\\end{array} \\right)$$\n",
    "\n",
    "So now the cross-product above can be rewritten (assuming $x_i'(k)$ denotes the k-th coordinate of $x_i'$)\n",
    "\n",
    "$$\n",
    "x_i' \\times Hx_i = \\left(\n",
    "  \\begin{array}{c}\n",
    "  x_i'(1) h^{3T}x_i - x_i'(2) h^{2T}x_i \\\\\n",
    "  x_i'(2) h^{1T}x_i - x_i'(0) h^{3T}x_i \\\\\n",
    "  x_i'(0) h^{2T}x_i - x_i'(1) h^{1T}x_i\n",
    "  \\end{array} \\right)\n",
    "$$\n",
    "\n",
    "Since $h^{jT}x_i = x_i^T h^j$, we can rewrite as\n",
    "\n",
    "$$\n",
    "\\left(\n",
    "\\begin{array}{c c c}\n",
    "0^T & -x_i'(2)x_i^T & x_i'(1)x_i^T \\\\\n",
    "x_i'(2)x_i^T & 0^T & -x_i'(0)x_i^T \\\\\n",
    "-x_i'(1)x_i^T & x_i'(0)x_i^T & 0^T\n",
    "\\end{array}\n",
    "\\right)\n",
    "\\\n",
    "\\left(\n",
    "\\begin{array}{c}\n",
    "h^1 \\\\\n",
    "h^2 \\\\\n",
    "h^3\n",
    "\\end{array}\n",
    "\\right)\n",
    "\\\n",
    "=0\n",
    "$$\n",
    "\n",
    "Note that this is a 3x9 matrix multiplying a 9x1 vector containing the unknown (the row of H).\n",
    "\n",
    "The third row can be obtaine as a combination of first and second and therefore we can drop it, so we have two remaining equations per point\n",
    "$$\n",
    "\\left(\n",
    "\\begin{array}{c c c}\n",
    "0^T & -x_i'(2)x_i^T & x_i'(1)x_i^T \\\\\n",
    "x_i'(2)x_i^T & 0^T & -x_i'(0)x_i^T\n",
    "\\end{array}\n",
    "\\right)\n",
    "\\\n",
    "\\left(\n",
    "\\begin{array}{c}\n",
    "h^1 \\\\\n",
    "h^2 \\\\\n",
    "h^3\n",
    "\\end{array}\n",
    "\\right)\n",
    "\\\n",
    "=0\n",
    "$$\n",
    "\n",
    "Which we'll solve as an $Ah = 0$ problem"
   ]
  },
  {
   "cell_type": "code",
   "execution_count": 4,
   "metadata": {},
   "outputs": [
    {
     "name": "stdout",
     "output_type": "stream",
     "text": [
      "[[-0.22664 -0.17434  0.62761]\n",
      " [-0.06973 -0.33124  0.62761]\n",
      " [-0.03487 -0.06102  0.1046 ]]\n"
     ]
    }
   ],
   "source": [
    "def compute_A_for_point(x, xp):\n",
    "    \"\"\"\n",
    "    Computes two rows of A for a single point correspondence x and xp\n",
    "    \"\"\"\n",
    "    assert len(x) == len(xp) == 2\n",
    "    # convert to homogeneous\n",
    "    x = np.r_[x, 1]\n",
    "    xp = np.r_[xp, 1]\n",
    "    \n",
    "    return np.array([\n",
    "        np.r_[np.zeros(3), -xp[2] * x , xp[1] * x],\n",
    "        np.r_[xp[2] * x  , np.zeros(3), -xp[0] * x]\n",
    "    ])\n",
    "\n",
    "def compute_homography(x, xp):\n",
    "    \"\"\"\n",
    "    Given two arrays of corresponding points as 4x2 arrays, compute the\n",
    "    homography H such that xp = Hx\n",
    "    \"\"\"\n",
    "    A = np.concatenate([compute_A_for_point(*pair) for pair in zip(x, xp)], axis=0)\n",
    "    U, s, V = la.svd(A)\n",
    "    # Solution is the last row of V (corresponding to the smallest eigenvalue)\n",
    "    H = np.reshape(V[-1], (3, 3))\n",
    "    return H\n",
    "    \n",
    "compute_A_for_point(x[0], xp[0])\n",
    "H = compute_homography(x, xp)\n",
    "\n",
    "print(H)"
   ]
  },
  {
   "cell_type": "code",
   "execution_count": 5,
   "metadata": {},
   "outputs": [
    {
     "name": "stdout",
     "output_type": "stream",
     "text": [
      "-- 0\n",
      "x  = [2 2]\n",
      "xp = [ 2.  2.]\n",
      "Hx = [ 2.  2.]\n",
      "-- 1\n",
      "x  = [2 4]\n",
      "xp = [ 2.5  4. ]\n",
      "Hx = [ 2.5  4. ]\n",
      "-- 2\n",
      "x  = [4 4]\n",
      "xp = [ 3.5  3.5]\n",
      "Hx = [ 3.5  3.5]\n",
      "-- 3\n",
      "x  = [4 2]\n",
      "xp = [ 4.  2.]\n",
      "Hx = [ 4.  2.]\n"
     ]
    }
   ],
   "source": [
    "def hdot(M, p):\n",
    "    \"\"\"Convenience function to apply a 3x3 transform to a 2D point\"\"\"\n",
    "    pp = M.dot(np.r_[p, 1]) # to homogeneous\n",
    "    return pp[:-1] / pp[-1] # back to inhomogeneous\n",
    "\n",
    "for i in range(4):\n",
    "    print(\"-- %d\" % i)\n",
    "    print(\"x  = %s\" % x[i])\n",
    "    print(\"xp = %s\" % xp[i])\n",
    "    print(\"Hx = %s\" % (hdot(H, x[i])))\n",
    "    assert np.allclose(hdot(H, x[i]), xp[i])"
   ]
  }
 ],
 "metadata": {
  "kernelspec": {
   "display_name": "Python 3",
   "language": "python",
   "name": "python3"
  },
  "language_info": {
   "codemirror_mode": {
    "name": "ipython",
    "version": 3
   },
   "file_extension": ".py",
   "mimetype": "text/x-python",
   "name": "python",
   "nbconvert_exporter": "python",
   "pygments_lexer": "ipython3",
   "version": "3.6.2"
  }
 },
 "nbformat": 4,
 "nbformat_minor": 2
}
